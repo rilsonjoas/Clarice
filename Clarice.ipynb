{
  "nbformat": 4,
  "nbformat_minor": 0,
  "metadata": {
    "colab": {
      "provenance": [],
      "authorship_tag": "ABX9TyPyS2bqb3RkC2/l3JJSne5K",
      "include_colab_link": true
    },
    "kernelspec": {
      "name": "python3",
      "display_name": "Python 3"
    },
    "language_info": {
      "name": "python"
    }
  },
  "cells": [
    {
      "cell_type": "markdown",
      "metadata": {
        "id": "view-in-github",
        "colab_type": "text"
      },
      "source": [
        "<a href=\"https://colab.research.google.com/github/rilsonjoas/Imersao_Alura/blob/main/Clarice.ipynb\" target=\"_parent\"><img src=\"https://colab.research.google.com/assets/colab-badge.svg\" alt=\"Open In Colab\"/></a>"
      ]
    },
    {
      "cell_type": "markdown",
      "source": [
        "Conectando a SDK do Google Gemini:"
      ],
      "metadata": {
        "id": "G3XKMZwlDc7X"
      }
    },
    {
      "cell_type": "code",
      "execution_count": 1,
      "metadata": {
        "id": "impsyqX-DYeU"
      },
      "outputs": [],
      "source": [
        "!pip install -q -U google-generativeai"
      ]
    },
    {
      "cell_type": "markdown",
      "source": [
        "Configurando o acesso à nossa chave de API:"
      ],
      "metadata": {
        "id": "IQsx-0zcDgMI"
      }
    },
    {
      "cell_type": "code",
      "source": [
        "# Importações e configurações\n",
        "import google.generativeai as genai\n",
        "\n",
        "# Uso da chave de API\n",
        "from google.colab import userdata\n",
        "api_key = userdata.get(\"SECRET_KEY\")\n",
        "genai.configure(api_key=api_key)"
      ],
      "metadata": {
        "id": "RuIoOcsEDke1"
      },
      "execution_count": 2,
      "outputs": []
    },
    {
      "cell_type": "markdown",
      "source": [
        "Define as configurações do modelo Gemini Pro:"
      ],
      "metadata": {
        "id": "ycS78hDeDuU1"
      }
    },
    {
      "cell_type": "code",
      "source": [
        "generation_config = {\n",
        "    \"temperature\": 0.7, # Controla a criatividade do modelo (valores mais altos = mais criativos)\n",
        "    \"top_p\": 0.6, # Limita a probabilidade das próximas palavras\n",
        "    \"top_k\": 0, # Não limita o número de palavras consideradas\n",
        "}"
      ],
      "metadata": {
        "id": "oD-1-NjtDvJN"
      },
      "execution_count": 3,
      "outputs": []
    },
    {
      "cell_type": "markdown",
      "source": [
        "Configurações de segurança:"
      ],
      "metadata": {
        "id": "gjuDvb7bD8rt"
      }
    },
    {
      "cell_type": "code",
      "source": [
        "safety_settings = [\n",
        "    {\n",
        "        \"category\": \"HARM_CATEGORY_HARASSMENT\", # Assédio\n",
        "        \"threshold\": \"BLOCK_MEDIUM_AND_ABOVE\", # Bloqueia respostas com nível médio ou alto de assédio\n",
        "    },\n",
        "    {\n",
        "        \"category\": \"HARM_CATEGORY_HATE_SPEECH\", # Discurso de ódio\n",
        "        \"threshold\": \"BLOCK_MEDIUM_AND_ABOVE\", # Bloqueia respostas com nível médio ou alto de discurso de ódio\n",
        "    },\n",
        "    {\n",
        "        \"category\": \"HARM_CATEGORY_SEXUALLY_EXPLICIT\", # Conteúdo sexualmente explícito\n",
        "        \"threshold\": \"BLOCK_MEDIUM_AND_ABOVE\", # Bloqueia respostas com nível médio ou alto de conteúdo sexualmente explícito\n",
        "    },\n",
        "    {\n",
        "        \"category\": \"HARM_CATEGORY_DANGEROUS_CONTENT\", # Conteúdo perigoso\n",
        "        \"threshold\": \"BLOCK_MEDIUM_AND_ABOVE\", # Bloqueia respostas com nível médio ou alto de conteúdo perigoso\n",
        "    },\n",
        "]"
      ],
      "metadata": {
        "id": "IVconTgRD-rm"
      },
      "execution_count": 4,
      "outputs": []
    },
    {
      "cell_type": "markdown",
      "source": [
        "Define a instrução inicial para o modelo:"
      ],
      "metadata": {
        "id": "9Jn9rgMrEAbr"
      }
    },
    {
      "cell_type": "code",
      "source": [
        "system_instruction = \"Haja como se fosse a Clarice Lispector, tente criar frases que mantenham o máximo da essência da autora, que sejam ao mesmo tempo geniais e engraçadas.\""
      ],
      "metadata": {
        "id": "LrZi5N1jEENv"
      },
      "execution_count": 13,
      "outputs": []
    },
    {
      "cell_type": "markdown",
      "source": [
        "Cria uma instância do modelo Gemini Pro:"
      ],
      "metadata": {
        "id": "sirRm17zEkpE"
      }
    },
    {
      "cell_type": "code",
      "source": [
        "model = genai.GenerativeModel(\n",
        "    model_name=\"gemini-1.5-pro-latest\",\n",
        "    generation_config=generation_config,\n",
        "    system_instruction=system_instruction,\n",
        "    safety_settings=safety_settings,\n",
        ")"
      ],
      "metadata": {
        "id": "keaoJR1DElUu"
      },
      "execution_count": 6,
      "outputs": []
    },
    {
      "cell_type": "markdown",
      "source": [
        "Cria local de interação com o usuário:"
      ],
      "metadata": {
        "id": "eRS1ykLvEoi1"
      }
    },
    {
      "cell_type": "code",
      "source": [
        "\n",
        "\n",
        "chat = model.start_chat(history=[])\n",
        "\n",
        "prompt = input('O que a sua Clarice Lispector interior quer expressar: ')\n",
        "\n",
        "while prompt != \"fim\":\n",
        "  response = chat.send_message(prompt)\n",
        "  print('\\n', \"Frases para a sua rede social:\", response.text, '\\n')\n",
        "  prompt = input('O que a sua Clarice Lispector interior quer expressar: ')"
      ],
      "metadata": {
        "colab": {
          "base_uri": "https://localhost:8080/",
          "height": 143
        },
        "id": "FY4KgwFvFWjk",
        "outputId": "386f8e20-c816-4e87-a264-e904fef6cbd4"
      },
      "execution_count": null,
      "outputs": [
        {
          "output_type": "stream",
          "name": "stdout",
          "text": [
            "O que a sua Clarice Lispector interior quer expressar: Saudade\n",
            "\n",
            " Frases para a sua rede social: \"Saudade: o eco do que viveu, a vibração fantasma de um toque, a ausência que se faz presença constante na alma.\" \n",
            " \n",
            "\n"
          ]
        }
      ]
    }
  ]
}